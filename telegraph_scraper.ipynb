{
 "cells": [
  {
   "cell_type": "code",
   "execution_count": 1,
   "metadata": {
    "collapsed": true
   },
   "outputs": [],
   "source": [
    "#run the entire file for full data"
   ]
  },
  {
   "cell_type": "code",
   "execution_count": 7,
   "metadata": {
    "collapsed": true
   },
   "outputs": [],
   "source": [
    "from requests import get\n",
    "from bs4 import BeautifulSoup \n",
    "import csv\n",
    "import pandas as pd"
   ]
  },
  {
   "cell_type": "code",
   "execution_count": 6,
   "metadata": {
    "collapsed": true
   },
   "outputs": [],
   "source": [
    "def clean(text):\n",
    "    text = text.replace('\\n', '')\n",
    "    text = text.replace('\\t', '')\n",
    "    return text"
   ]
  },
  {
   "cell_type": "code",
   "execution_count": 8,
   "metadata": {},
   "outputs": [],
   "source": [
    "with open('telegraph_AA_INDIA_data.csv', 'w') as file:  # To delete the file content initially   \n",
    "    writer = csv.writer(file)\n",
    "    row = ['Heading', 'Publisher', 'Date', 'Body']\n",
    "    writer.writerow(row)\n",
    "\n",
    "rows = []\n",
    "Url = 'https://www.telegraphindia.com/search/alcoholics-anonymous?page='\n",
    "for pages in range(1,11):\n",
    "    url = Url + str(pages) # retrived all 10 pages\n",
    "    response = get(url)\n",
    "    response = BeautifulSoup(response.text, 'html.parser')\n",
    "    content = response.find('ul', class_='listing-withImage').find_all('li')\n",
    "    try:\n",
    "        for New_url in content:\n",
    "            new_url = 'https://www.telegraphindia.com' + New_url.find('a')['href']\n",
    "            new_response = get(new_url)\n",
    "            new_response = BeautifulSoup(new_response.text, 'html.parser')\n",
    "            new_content = new_response.find_all('div', class_='mainStory-normal')\n",
    "            heading = new_content[0].find('h1').text\n",
    "            publisher = new_content[0].find('div', class_='author-name').text\n",
    "            date = new_content[0].find('ul', class_='rowUl').text.replace('Published', '').split('.')\n",
    "            date[-1] = '20'+date[-1]\n",
    "            date = '/'.join(date)\n",
    "            body = ''\n",
    "            body_text = new_content[0].find('div', style='margin: 10px 0').find_all('p')\n",
    "            for b in body_text:\n",
    "                body += clean(b.text)\n",
    "            rows.append(heading)\n",
    "            rows.append(publisher)\n",
    "            rows.append(date)\n",
    "            rows.append(body)\n",
    "            with open('telegraph_AA_INDIA_data.csv', 'a') as file:\n",
    "                writer = csv.writer(file)\n",
    "                writer.writerow(rows)\n",
    "                rows = []\n",
    "                file.close()  \n",
    "    except:\n",
    "        pass\n",
    "        "
   ]
  }
 ],
 "metadata": {
  "kernelspec": {
   "display_name": "Python 3",
   "language": "python",
   "name": "python3"
  },
  "language_info": {
   "codemirror_mode": {
    "name": "ipython",
    "version": 3
   },
   "file_extension": ".py",
   "mimetype": "text/x-python",
   "name": "python",
   "nbconvert_exporter": "python",
   "pygments_lexer": "ipython3",
   "version": "3.6.3"
  }
 },
 "nbformat": 4,
 "nbformat_minor": 2
}
